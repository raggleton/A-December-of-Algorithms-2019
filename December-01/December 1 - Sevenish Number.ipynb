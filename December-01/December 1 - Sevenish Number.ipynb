{
 "cells": [
  {
   "cell_type": "code",
   "execution_count": 2,
   "metadata": {},
   "outputs": [],
   "source": [
    "import math\n",
    "import numpy as np"
   ]
  },
  {
   "cell_type": "markdown",
   "metadata": {},
   "source": [
    "## Problem\n",
    "Let us now define what we mean by a sevenish number.\n",
    "\n",
    "A \"sevenish\" number is a natural number which is either a power of 7, or the sum of unique powers of 7\n",
    "\n",
    "The first 5 sevenish numbers are: 1, 7, 8, 49, 50.\n",
    "\n",
    "Now, implement an algorithm to find the nth sevenish number.\n",
    "\n",
    "### Example\n",
    "```\n",
    "> sevenish_number(1)\n",
    "  1\n",
    "> sevenish_number(5)\n",
    "  50\n",
    "> sevenish_number(10)\n",
    "  350\n",
    "```\n",
    "\n",
    "### Optional Task\n",
    "\n",
    "Create a Dynamic Programming solution to reduce the time complexity of your algorithm (if you used a brute-force approach before).\n"
   ]
  },
  {
   "cell_type": "markdown",
   "metadata": {},
   "source": [
    "So:\n",
    "\n",
    "- either power of 7: $x = 7^N$, i.e. $\\log_7(x) = N$, where $N$ is an integer\n",
    "\n",
    "- or $\\sum_i a_i 7^i$, where $a_i \\in {0, 1}$\n",
    "\n",
    "Note that the first definition is a special case of the 2nd (you have one $a_i = 1$, whilst all other are 0)\n",
    "\n",
    "So basically this is binary in base 7?"
   ]
  },
  {
   "cell_type": "code",
   "execution_count": 117,
   "metadata": {},
   "outputs": [],
   "source": [
    "class SevenishFinder():\n",
    "    \n",
    "    def __init__(self):\n",
    "        self.cache = ['1']\n",
    "        self.last_num_binary = \"0\"  # handle all binary values as strings\n",
    "            \n",
    "    def __call__(self, index):\n",
    "        # we have to caclulate this ourselves\n",
    "        # let's go dumb for now, no recursion\n",
    "        while len(self.cache) < index:\n",
    "            self.add_number()\n",
    "        return self.cache[index-1]\n",
    "\n",
    "    @staticmethod\n",
    "    def add(*vals):\n",
    "        # Do binary addition for any number of 1-bit numbers\n",
    "        number_ones = vals.count('1')\n",
    "        return bin(number_ones).replace('0b', '')\n",
    "        \n",
    "    def get_next_binary_number(self, old_bin):\n",
    "        # e.g. 1001 -> 1010, 1010 -> 1011,\n",
    "        # This is done by adding 000001, and ensuring we carry\n",
    "        # the extra parts\n",
    "        old_bin = old_bin[::-1]  # make left-ordered\n",
    "        extra = ['0'] * len(old_bin)  # this one stays left-ordered\n",
    "        \n",
    "        addend = ['0'] * (len(old_bin) - 1)\n",
    "        addend.append('1')\n",
    "        addend = addend[::-1]  # make left-ordered\n",
    "        \n",
    "        new_str = []  # is left-ordered\n",
    "        for index, (a_val, b_val) in enumerate(zip(old_bin, addend)):\n",
    "            this_val = self.add(a_val, b_val, extra[index])\n",
    "#             print('adding', a_val, b_val, extra[index], '=', this_val)\n",
    "            if len(this_val) == 2:\n",
    "                # handle carry over\n",
    "                this_val = this_val[-1]\n",
    "                if len(extra) <= index+1:\n",
    "                    # extra isn't long enough, add to end\n",
    "                    extra += '1'\n",
    "                else:\n",
    "                    # replace an entry\n",
    "                    extra[index+1] = '1'\n",
    "            new_str.append(this_val)\n",
    "        # handle case when leftover in extra\n",
    "        if len(extra) > len(old_bin):\n",
    "            new_str.extend(extra[len(old_bin):])\n",
    "        return ''.join(new_str[::-1])\n",
    "            \n",
    "    \n",
    "    def add_number(self):\n",
    "        # first update to the next biggest binary number\n",
    "        new_num_binary = self.get_next_binary_number(self.last_num_binary)\n",
    "        # Now we can sum over the pwer series it represents\n",
    "        # The easy way is just int(new_num_binary, 7), but let's try it anyway\n",
    "        a_i_vals = [int(x) for x in new_num_binary][::-1] # reverse since binary is left-biggest, while indexing is the opposite\n",
    "        new_num = sum(a_i_vals[i]*(7**i) for i in range(len(new_num_binary)))\n",
    "        self.last_num_binary = new_num_binary\n",
    "        self.cache.append(new_num)"
   ]
  },
  {
   "cell_type": "code",
   "execution_count": 118,
   "metadata": {},
   "outputs": [],
   "source": [
    "sevenish_number = SevenishFinder()"
   ]
  },
  {
   "cell_type": "code",
   "execution_count": 119,
   "metadata": {},
   "outputs": [
    {
     "data": {
      "text/plain": [
       "'101'"
      ]
     },
     "execution_count": 119,
     "metadata": {},
     "output_type": "execute_result"
    }
   ],
   "source": [
    "sevenish_number.get_next_binary_number('100')"
   ]
  },
  {
   "cell_type": "code",
   "execution_count": 120,
   "metadata": {},
   "outputs": [
    {
     "name": "stdout",
     "output_type": "stream",
     "text": [
      "1 1\n",
      "2 7\n",
      "3 8\n",
      "4 49\n",
      "5 50\n",
      "6 56\n",
      "7 57\n",
      "8 343\n",
      "9 344\n",
      "10 350\n"
     ]
    }
   ],
   "source": [
    "for i in range(1, 11):\n",
    "    print(i, sevenish_number(i+1))\n",
    "#     print(sevenish_number.last_num_binary, sevenish_number.cache)"
   ]
  },
  {
   "cell_type": "code",
   "execution_count": null,
   "metadata": {},
   "outputs": [],
   "source": []
  }
 ],
 "metadata": {
  "kernelspec": {
   "display_name": "Python 3",
   "language": "python",
   "name": "python3"
  },
  "language_info": {
   "codemirror_mode": {
    "name": "ipython",
    "version": 3
   },
   "file_extension": ".py",
   "mimetype": "text/x-python",
   "name": "python",
   "nbconvert_exporter": "python",
   "pygments_lexer": "ipython3",
   "version": "3.7.5"
  }
 },
 "nbformat": 4,
 "nbformat_minor": 2
}
